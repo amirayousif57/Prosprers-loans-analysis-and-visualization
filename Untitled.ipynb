{
 "cells": [
  {
   "cell_type": "code",
   "execution_count": 12,
   "metadata": {},
   "outputs": [
    {
     "ename": "ModuleNotFoundError",
     "evalue": "No module named 'boto3'",
     "output_type": "error",
     "traceback": [
      "\u001b[1;31m---------------------------------------------------------------------------\u001b[0m",
      "\u001b[1;31mModuleNotFoundError\u001b[0m                       Traceback (most recent call last)",
      "\u001b[1;32m<ipython-input-12-3cbf495b3eaa>\u001b[0m in \u001b[0;36m<module>\u001b[1;34m\u001b[0m\n\u001b[0;32m      4\u001b[0m \u001b[1;33m\u001b[0m\u001b[0m\n\u001b[0;32m      5\u001b[0m \u001b[1;31m# 3rd Party Imports\u001b[0m\u001b[1;33m\u001b[0m\u001b[1;33m\u001b[0m\u001b[1;33m\u001b[0m\u001b[0m\n\u001b[1;32m----> 6\u001b[1;33m \u001b[1;32mimport\u001b[0m \u001b[0mboto3\u001b[0m\u001b[1;33m\u001b[0m\u001b[1;33m\u001b[0m\u001b[0m\n\u001b[0m\u001b[0;32m      7\u001b[0m \u001b[1;33m\u001b[0m\u001b[0m\n\u001b[0;32m      8\u001b[0m \u001b[1;31m# Arguments\u001b[0m\u001b[1;33m\u001b[0m\u001b[1;33m\u001b[0m\u001b[1;33m\u001b[0m\u001b[0m\n",
      "\u001b[1;31mModuleNotFoundError\u001b[0m: No module named 'boto3'"
     ]
    }
   ],
   "source": [
    "# Standard Imports\n",
    "import argparse\n",
    "import json\n",
    "\n",
    "# 3rd Party Imports\n",
    "import boto3\n",
    "\n",
    "# Arguments\n",
    "parser = argparse.ArgumentParser(description=\"Provides translation  between one source language and another of the same set of languages.\")\n",
    "parser.add_argument(\n",
    "    '--file',\n",
    "    dest='filename',\n",
    "    help=\"The path to the input file. The file should be valid json\",\n",
    "    required=True\n",
    "    )\n",
    "\n",
    "args = parser.parse_args()\n",
    "\n",
    "# Functions\n",
    "\n",
    "# Open the input file to get the json.\n",
    "def open_input():\n",
    "    with open(args.filename) as file_object:\n",
    "        contents = json.load(file_object)\n",
    "        return contents['Input']\n",
    "\n",
    "# Boto3 function to use Amazon Translate to translate the text and only return the Translated Text\n",
    "def translate_text(**kwargs):\n",
    "    client = boto3.client('translate')\n",
    "    response = client.translate_text(**kwargs)\n",
    "    print(response['TranslatedText'])\n",
    "\n",
    "# Add a Loop to iterate over the json file.\n",
    "def translate_loop():\n",
    "    input_text = open_input()\n",
    "    for item in input_text:\n",
    "        if input_validation(item) == True:\n",
    "            translate_text(**item)\n",
    "        else:\n",
    "            raise SystemError\n",
    "\n",
    "# Add our input validation as a function here.\n",
    "def input_validation(item):\n",
    "    languages = [\"af\",\"sq\",\"am\",\"ar\",\"az\",\"bn\",\"bs\",\"bg\",\"zh\",\"zh-TW\",\"hr\",\"cs\",\"da\",\"fa-AF\",\n",
    "                \"nl\",\"en\",\"et\",\"fi\",\"fr\",\"fr-CA\",\"ka\",\"de\",\"el\",\"ha\",\"he\",\"hi\",\"hu\",\"id\",\"it\",\n",
    "                \"ja\",\"ko\",\"lv\",\"ms\",\"no\",\"fa\",\"ps\",\"pl\",\"pt\",\"ro\",\"ru\",\"sr\",\"sk\",\"sl\",\"so\",\"es\",\n",
    "                \"sw\",\"sv\",\"tl\",\"ta\",\"th\",\"tr\",\"uk\",\"ur\",\"vi\"\n",
    "                ]\n",
    "    json_input=item\n",
    "    SourceLanguageCode = json_input['SourceLanguageCode']\n",
    "    TargetLanguageCode = json_input['TargetLanguageCode']\n",
    "\n",
    "    if SourceLanguageCode == TargetLanguageCode:\n",
    "        print(\"The SourceLanguageCode is the same as the TargetLanguageCode - nothing to do\")\n",
    "        return False\n",
    "    elif SourceLanguageCode not in languages and TargetLanguageCode not in languages:\n",
    "        print(\"Neither the SourceLanguageCode and TargetLanguageCode are valid - stopping\")\n",
    "        return False\n",
    "    elif SourceLanguageCode not in languages:\n",
    "        print(\"The SourceLanguageCode is not valid - stopping\")\n",
    "        return False\n",
    "    elif TargetLanguageCode not in languages:\n",
    "        print(\"The TargetLanguageCode is not valid - stopping\")\n",
    "        return False\n",
    "    elif SourceLanguageCode in languages and TargetLanguageCode in languages:\n",
    "        print(\"The SourceLanguageCode and TargetLanguageCode are valid - proceeding\")\n",
    "        return True\n",
    "    else:\n",
    "        print(\"There is an issue\")\n",
    "        return False\n",
    "\n",
    "# Main Function - use to call other functions\n",
    "def main():\n",
    "    translate_loop()\n",
    "\n",
    "if __name__ == \"__main__\":\n",
    "    main()"
   ]
  },
  {
   "cell_type": "code",
   "execution_count": null,
   "metadata": {},
   "outputs": [],
   "source": []
  }
 ],
 "metadata": {
  "kernelspec": {
   "display_name": "Python 3",
   "language": "python",
   "name": "python3"
  },
  "language_info": {
   "codemirror_mode": {
    "name": "ipython",
    "version": 3
   },
   "file_extension": ".py",
   "mimetype": "text/x-python",
   "name": "python",
   "nbconvert_exporter": "python",
   "pygments_lexer": "ipython3",
   "version": "3.7.6"
  }
 },
 "nbformat": 4,
 "nbformat_minor": 4
}
